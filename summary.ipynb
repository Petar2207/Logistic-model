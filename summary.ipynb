{
  "nbformat": 4,
  "nbformat_minor": 0,
  "metadata": {
    "colab": {
      "provenance": []
    },
    "kernelspec": {
      "name": "python3",
      "display_name": "Python 3"
    },
    "language_info": {
      "name": "python"
    }
  },
  "cells": [
    {
      "cell_type": "code",
      "source": [
        "import pandas as pd\n",
        "from sklearn.preprocessing import StandardScaler"
      ],
      "metadata": {
        "id": "0DPVOj2yX82R"
      },
      "execution_count": null,
      "outputs": []
    },
    {
      "cell_type": "code",
      "source": [
        "# Upload your CSV from local\n",
        "from google.colab import files\n",
        "uploaded = files.upload()\n",
        "\n",
        "# Load it into a DataFrame\n",
        "df = pd.read_csv(\"xy.csv\")  # replace with actual filename\n",
        "df.head()\n",
        "\n"
      ],
      "metadata": {
        "id": "FqUuR-dcNqpK"
      },
      "execution_count": null,
      "outputs": []
    },
    {
      "cell_type": "code",
      "source": [
        "# 🔹 Step 2: Drop rows where 379.1 is missing\n",
        "df = df[df['379.1'].notna()]\n"
      ],
      "metadata": {
        "id": "SN1V9Tx7YScB"
      },
      "execution_count": null,
      "outputs": []
    },
    {
      "cell_type": "code",
      "source": [
        "df = df[['97.10', '379.1']]"
      ],
      "metadata": {
        "id": "E1I-gNrxqTCD"
      },
      "execution_count": null,
      "outputs": []
    },
    {
      "cell_type": "code",
      "source": [
        "# See missing values per column\n",
        "df.isnull().sum().sort_values(ascending=False)\n"
      ],
      "metadata": {
        "id": "uGNZuii4Xr6-"
      },
      "execution_count": null,
      "outputs": []
    },
    {
      "cell_type": "code",
      "source": [
        "df_top=df"
      ],
      "metadata": {
        "id": "_7WoUCIpYqhG"
      },
      "execution_count": null,
      "outputs": []
    },
    {
      "cell_type": "code",
      "source": [
        "df.head()"
      ],
      "metadata": {
        "id": "NMucZwGO6UqI"
      },
      "execution_count": null,
      "outputs": []
    },
    {
      "cell_type": "code",
      "source": [
        "def categorize_nps(original_score):\n",
        "    inverted_score = original_score  # Invert the scale\n",
        "    if inverted_score >= 5:\n",
        "        return 'Detractor'\n",
        "    elif 3 <= inverted_score <= 4:\n",
        "        return 'Passive'\n",
        "    else:\n",
        "        return 'Promoter'\n"
      ],
      "metadata": {
        "id": "B39x7XVswyiP"
      },
      "execution_count": null,
      "outputs": []
    },
    {
      "cell_type": "code",
      "source": [
        "\n",
        "# Initialize a list to collect summary data\n",
        "summary_data = []\n",
        "\n",
        "# Loop through 379.1 values 1 to 5\n",
        "for i in range(1, 6):\n",
        "    df_top = df[df['97.10'] == i].copy()\n",
        "    df_top['NPS_Category'] = df_top['379.1'].apply(categorize_nps)\n",
        "\n",
        "    promoters = len(df_top[df_top['NPS_Category'] == 'Promoter'])\n",
        "    detractors = len(df_top[df_top['NPS_Category'] == 'Detractor'])\n",
        "    total = len(df_top)\n",
        "\n",
        "    # Calculate NPS score\n",
        "    nps_score = ((promoters - detractors) / total) * 100 if total > 0 else None\n",
        "\n",
        "    # Append results to summary list\n",
        "    summary_data.append({\n",
        "        'Q52 Value': i,\n",
        "        'Total Responses': total,\n",
        "        'Promoters': promoters,\n",
        "        'Detractors': detractors,\n",
        "        'NPS Score': nps_score\n",
        "    })\n",
        "\n",
        "# Convert the summary list to a DataFrame\n",
        "summary_df = pd.DataFrame(summary_data)\n",
        "\n",
        "# Display the summary table\n",
        "print(summary_df)\n"
      ],
      "metadata": {
        "id": "EonmrT5MyN3O"
      },
      "execution_count": null,
      "outputs": []
    }
  ]
}