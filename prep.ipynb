{
  "nbformat": 4,
  "nbformat_minor": 0,
  "metadata": {
    "colab": {
      "provenance": []
    },
    "kernelspec": {
      "name": "python3",
      "display_name": "Python 3"
    },
    "language_info": {
      "name": "python"
    }
  },
  "cells": [
    {
      "cell_type": "code",
      "source": [
        "import pandas as pd\n",
        "from sklearn.preprocessing import StandardScaler"
      ],
      "metadata": {
        "id": "0DPVOj2yX82R"
      },
      "execution_count": null,
      "outputs": []
    },
    {
      "cell_type": "code",
      "source": [
        "# Upload your CSV from local\n",
        "from google.colab import files\n",
        "uploaded = files.upload()\n",
        "\n",
        "# Load it into a DataFrame\n",
        "df = pd.read_csv(\"xy.csv\")  # replace with actual filename\n",
        "df.head()\n",
        "\n"
      ],
      "metadata": {
        "id": "FqUuR-dcNqpK"
      },
      "execution_count": null,
      "outputs": []
    },
    {
      "cell_type": "code",
      "source": [
        "# 🔹 Step 2: Drop rows where 379.1 is missing\n",
        "df = df[df['379.1'].notna()]\n",
        "\n",
        "# 🔹 Step 3: Convert 379.1 to binary target variable\n",
        "df['379.1_binary'] = df['379.1'].apply(lambda x: 1 if x <= 4 else 0)\n",
        "df = df.drop(columns=['379.1'])"
      ],
      "metadata": {
        "id": "SN1V9Tx7YScB"
      },
      "execution_count": null,
      "outputs": []
    },
    {
      "cell_type": "code",
      "source": [
        "df = df.drop(columns=['2193'])"
      ],
      "metadata": {
        "id": "v3dQUa0yMHXp"
      },
      "execution_count": null,
      "outputs": []
    },
    {
      "cell_type": "code",
      "source": [
        "# See missing values per column\n",
        "df.isnull().sum().sort_values(ascending=False)\n"
      ],
      "metadata": {
        "id": "uGNZuii4Xr6-"
      },
      "execution_count": null,
      "outputs": []
    },
    {
      "cell_type": "code",
      "source": [
        "df.head()"
      ],
      "metadata": {
        "id": "_7WoUCIpYqhG"
      },
      "execution_count": null,
      "outputs": []
    },
    {
      "cell_type": "code",
      "source": [
        "# Step 1: Your intended ordinal variables\n",
        "ordinal_vars = [\n",
        "    '250.2', '618.4', '298.2', '141.2', '9.2', '219.7', '80.3', '10', '592', '593', '4', '63.10',\n",
        "    '220.7', '7', '530', '531', '532', '175.3', '590.3', '162.3', '184.10', '172.6', '178.2', '176.4',\n",
        "    '440', '533.7', '594.8', '8.3', '595.4', '430.3', '12.2', '11.3', '312.12', '535', '600', '608',\n",
        "    '2690', '2691', '2692', '2693', '2694', '2695', '2696', '2697', '2698', '2699', '860', '2701',\n",
        "    '2700', '610', '611', '2222.1', '913.1', '617', '58', '615', '248.7', '1715', '1720', '1721',\n",
        "    '2095', '2360.1', '137.11', '82.3', '580', '537.6', '308.14', '6', '157.6', '538.3', '5.7',\n",
        "    '539.7', '540.6', '65.3', '97.10', '1729', '1731', '1730', '1719', '1732', '2212', '2214',\n",
        "    '2215', '2223', '1726', '1727', '2191', '2192', '614', '409', '2702'\n",
        "]\n",
        "  # example\n",
        "\n",
        "# Step 2: Filter out columns that don’t exist in the DataFrame\n",
        "ordinal_vars = [col for col in ordinal_vars if col in df.columns]\n",
        "\n",
        "# Step 3: Convert only valid ones\n",
        "for col in ordinal_vars:\n",
        "    df[col] = df[col].astype('Int64')\n"
      ],
      "metadata": {
        "id": "UlrgyQOppxcj"
      },
      "execution_count": null,
      "outputs": []
    },
    {
      "cell_type": "code",
      "source": [
        "multi_nominal_cols = ['2124.1', '207']\n",
        "\n",
        "for col in multi_nominal_cols:\n",
        "    if col in df.columns:\n",
        "        # Step 1: Clean missing and convert to string\n",
        "        df[col] = df[col].fillna('').astype(str)\n",
        "\n",
        "        # Step 2: One-hot encode selections\n",
        "        dummies = df[col].str.get_dummies(sep=',')\n",
        "        dummies.columns = [f\"{col}_{c.strip()}\" for c in dummies.columns]\n",
        "\n",
        "        # Step 3: Create missing-all flag BEFORE dropping or joining\n",
        "        df[f'{col}_missing_all'] = dummies.sum(axis=1).eq(0).astype(int)\n",
        "\n",
        "        # Step 4: Replace original with dummies\n",
        "        df = df.drop(columns=[col])\n",
        "        df = pd.concat([df, dummies], axis=1)\n",
        "\n"
      ],
      "metadata": {
        "id": "sgZ29dkdtgjR"
      },
      "execution_count": null,
      "outputs": []
    },
    {
      "cell_type": "code",
      "source": [
        "# Fill missing values in all numeric columns with their median\n",
        "for col in df.select_dtypes(include='number').columns:\n",
        "    df[col] = df[col].fillna(df[col].median())\n"
      ],
      "metadata": {
        "id": "YomFpnNB1SzI"
      },
      "execution_count": null,
      "outputs": []
    },
    {
      "cell_type": "code",
      "source": [
        "output_path = \"ZADNJEJÖ.csv\"\n",
        "df.to_csv(output_path, index=False)\n",
        "\n",
        "# Step 7: Trigger download (Colab only)\n",
        "files.download(output_path)"
      ],
      "metadata": {
        "id": "RcD8CNB4S3bj"
      },
      "execution_count": null,
      "outputs": []
    }
  ]
}